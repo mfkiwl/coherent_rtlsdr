{
 "cells": [
  {
   "cell_type": "code",
   "execution_count": null,
   "metadata": {},
   "outputs": [],
   "source": [
    "import os\n",
    "import sys\n",
    "import math\n",
    "import shutil\n",
    "import datetime\n",
    "import multiprocessing\n",
    "import notebook\n",
    "from distutils import ccompiler"
   ]
  },
  {
   "cell_type": "code",
   "execution_count": null,
   "metadata": {},
   "outputs": [],
   "source": [
    "print(sys.executable)\n",
    "print('Python', sys.version, end='\\n\\n')\n",
    "\n",
    "for module in ('IPython notebook ipywidgets widgetsnbextension numpy '\n",
    "               'scipy matplotlib skimage numba cupy h5py Cython dask '\n",
    "               'tifffile'.split()):\n",
    "    try:\n",
    "        __import__(module)\n",
    "    except Exception:\n",
    "        continue\n",
    "    lib = sys.modules[module]\n",
    "    print(module.lower(), getattr(lib, '__version__', 'Unknown'))\n",
    "\n",
    "print('\\nCompiler type:', ccompiler.new_compiler().compiler_type, end='\\n\\n')\n",
    "print(multiprocessing.cpu_count(), 'CPU cores')\n",
    "\n",
    "try:\n",
    "    import psutil\n",
    "    print('{:.0f} GB main memory\\n'.format(psutil.virtual_memory()[0]/2**30))\n",
    "except ImportError:\n",
    "    pass"
   ]
  },
  {
   "cell_type": "code",
   "execution_count": null,
   "metadata": {},
   "outputs": [],
   "source": [
    "from matplotlib import pyplot as plt"
   ]
  },
  {
   "cell_type": "code",
   "execution_count": null,
   "metadata": {},
   "outputs": [],
   "source": [
    "import time\n",
    "import numpy\n",
    "import pyfftw\n",
    "import multiprocessing\n",
    "nthread = multiprocessing.cpu_count()\n",
    "a = numpy.random.rand(2364,2756).astype('complex128')\n",
    "\"\"\" \n",
    "Uncomment below to use 32 bit floats, \n",
    "increasing the speed by a factor of 4\n",
    "and remove the difference between the \"builders\" and \"FFTW\" methods\n",
    "\"\"\"\n",
    "a = numpy.random.rand(2364,2756).astype('complex64')\n",
    "\n",
    "start = time.time()\n",
    "b1 = numpy.fft.fft2(a)\n",
    "end1 = time.time() - start\n",
    "\n",
    "start = time.time()\n",
    "b2 = pyfftw.interfaces.scipy_fftpack.fft2(a, threads=nthread)\n",
    "end2 = time.time() - start\n",
    "\n",
    "pyfftw.forget_wisdom()\n",
    "start = time.time()\n",
    "b3 = pyfftw.interfaces.numpy_fft.fft2(a, threads=nthread)\n",
    "end3 = time.time() - start\n",
    "\n",
    "\"\"\" \n",
    "For large arrays avoiding the copy is very important, \n",
    "doing this I get a speedup of 2x compared to not using it \n",
    "\"\"\"\n",
    "pyfftw.forget_wisdom()\n",
    "start = time.time()\n",
    "b5 = numpy.zeros_like(a)\n",
    "fft = pyfftw.builders.fft2(a, overwrite_input=True, planner_effort='FFTW_ESTIMATE', threads=multiprocessing.cpu_count())\n",
    "#fft = pyfftw.builders.fft2(a, s=None, axes=(-2, -1), overwrite_input=False, planner_effort='FFTW_MEASURE', threads=nthread, auto_align_input=False, auto_contiguous=False, avoid_copy=True)\n",
    "b5 = fft()\n",
    "end5 = time.time() - start\n",
    "\n",
    "print('numpy.fft.fft2:                        %.3f secs.' % end1)\n",
    "print('pyfftw.interfaces.scipy_fftpack.fft2:  %.3f secs.' % end2)\n",
    "print('pyfftw.interfaces.numpy_fft.fft2:      %.3f secs.' % end3)\n",
    "print('pyfftw.builders:                       %.3f secs.' % end5)"
   ]
  },
  {
   "cell_type": "code",
   "execution_count": 1,
   "metadata": {},
   "outputs": [
    {
     "name": "stdout",
     "output_type": "stream",
     "text": [
      "CPU times: user 36.2 ms, sys: 16.1 ms, total: 52.3 ms\n",
      "Wall time: 52.8 ms\n",
      "CPU times: user 56.4 ms, sys: 175 µs, total: 56.6 ms\n",
      "Wall time: 24.8 ms\n",
      "CPU times: user 53.1 ms, sys: 0 ns, total: 53.1 ms\n",
      "Wall time: 19.1 ms\n",
      "CPU times: user 48.2 ms, sys: 0 ns, total: 48.2 ms\n",
      "Wall time: 14.8 ms\n"
     ]
    },
    {
     "data": {
      "text/plain": [
       "array([ 5.2467006e+05  +0.j      , -3.6651361e+02-286.94296j ,\n",
       "        1.8795923e+02+128.50076j , ...,  9.7990852e+01 +11.404587j,\n",
       "        1.8795924e+02-128.50069j , -3.6651358e+02+286.94296j ],\n",
       "      dtype=complex64)"
      ]
     },
     "execution_count": 1,
     "metadata": {},
     "output_type": "execute_result"
    }
   ],
   "source": [
    "import numpy as np\n",
    "import pyfftw\n",
    "import multiprocessing\n",
    "\n",
    "nthread = multiprocessing.cpu_count()\n",
    "\n",
    "a = np.random.rand(1024*1024).astype('complex64')\n",
    "fft = pyfftw.builders.fft(a, overwrite_input=True, planner_effort='FFTW_ESTIMATE', threads=multiprocessing.cpu_count())\n",
    "\n",
    "%time np.fft.fft(a)\n",
    "%time pyfftw.interfaces.scipy_fftpack.fft(a, threads=nthread)\n",
    "%time pyfftw.interfaces.numpy_fft.fft(a, threads=nthread)\n",
    "%time fft()"
   ]
  },
  {
   "cell_type": "code",
   "execution_count": null,
   "metadata": {},
   "outputs": [],
   "source": [
    "# import numpy as np\n",
    "# import pyfftw\n",
    "# import multiprocessing\n",
    "\n",
    "# nthread = multiprocessing.cpu_count()\n",
    "\n",
    "\n",
    "# K = 2**18\n",
    "# Llx = 10.\n",
    "# KT = 2*K\n",
    "# dx = Llx/np.float64(K)\n",
    "# X = np.arange(-Llx,Llx,dx)\n",
    "# a = pyfftw.n_byte_align_empty(KT, 16, 'complex64')\n",
    "# b = pyfftw.n_byte_align_empty(KT, 16, 'complex64')\n",
    "# fft_object = pyfftw.FFTW(a,b)\n",
    "# a[:] = 2.*np.cosh(X)**(-2)"
   ]
  },
  {
   "cell_type": "code",
   "execution_count": null,
   "metadata": {},
   "outputs": [],
   "source": [
    "# %timeit np.fft.fft(a)\n",
    "# %timeit fft_object(a)"
   ]
  },
  {
   "cell_type": "code",
   "execution_count": null,
   "metadata": {},
   "outputs": [],
   "source": []
  }
 ],
 "metadata": {
  "kernelspec": {
   "display_name": "Python 3",
   "language": "python",
   "name": "python3"
  },
  "language_info": {
   "codemirror_mode": {
    "name": "ipython",
    "version": 3
   },
   "file_extension": ".py",
   "mimetype": "text/x-python",
   "name": "python",
   "nbconvert_exporter": "python",
   "pygments_lexer": "ipython3",
   "version": "3.6.9"
  }
 },
 "nbformat": 4,
 "nbformat_minor": 4
}
